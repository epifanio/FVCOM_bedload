{
 "cells": [
  {
   "cell_type": "markdown",
   "metadata": {},
   "source": [
    "# Compute bedload transport from FVCOM \n"
   ]
  },
  {
   "cell_type": "markdown",
   "metadata": {},
   "source": [
    "Demonstration using the NetCDF4-Python library to compute bedload transport and bottom velocity (1 meter above bottom) from a triangular grid ocean model (FVCOM) via OPeNDAP.  The results are stored in a new NetCDF4 file. \n",
    "\n",
    "NECOFS (Northeastern Coastal Ocean Forecast System) is run by groups at the University of Massachusetts Dartmouth and the Woods Hole Oceanographic Institution, led by Drs. C. Chen, R. C. Beardsley, G. Cowles and B. Rothschild. Funding is provided to run the model by the NOAA-led Integrated Ocean Observing System and the State of Massachusetts.\n",
    "\n",
    "NECOFS is a coupled numerical model that uses nested weather models, a coastal ocean circulation model, and a wave model. The ocean model is a volume-mesh model with horizontal resolution that is finer in complicated regions. It is layered (not depth-averaged) and includes the effects of tides, winds, and varying water densities caused by temperature and salinity changes.\n",
    "\n",
    "## Model description \n",
    "\n",
    "    http://fvcom.smast.umassd.edu/research_projects/NECOFS/model_system.html\n",
    "    \n",
    "    \n",
    "## Online data resources\n",
    "* THREDDS server with other forecast and archive products: \n",
    "\n",
    "    http://www.smast.umassd.edu:8080/thredds/catalog.html\n",
    "\n",
    "\n",
    "**Note:**\n",
    "The notebook here calculates the **instantaneous bedload transport**. \n",
    "The **net transport** is given by averaging the results over a tidal cycle (average over an exact number of tidal cycles to don't get some fraction of a remaining tidal cycle affecting the mean)\n",
    "\n",
    "\n",
    "**Author:** Rich Signell (USGS), Massimo Di Stefano (CCOM)"
   ]
  },
  {
   "cell_type": "code",
   "execution_count": null,
   "metadata": {
    "ExecuteTime": {
     "end_time": "2017-04-27T22:11:34.089982Z",
     "start_time": "2017-04-27T22:11:33.930503Z"
    }
   },
   "outputs": [],
   "source": [
    "import numpy as np\n",
    "import netCDF4\n",
    "import datetime as dt"
   ]
  },
  {
   "cell_type": "markdown",
   "metadata": {},
   "source": [
    "* Input FVCOM Dataset: DAP Data URL"
   ]
  },
  {
   "cell_type": "code",
   "execution_count": null,
   "metadata": {
    "ExecuteTime": {
     "end_time": "2017-04-27T22:11:34.258286Z",
     "start_time": "2017-04-27T22:11:34.092626Z"
    }
   },
   "outputs": [],
   "source": [
    "THREDDS='http://www.smast.umassd.edu:8080/thredds'\n",
    "url = THREDDS+'/dodsC/FVCOM/NECOFS/Forecasts/NECOFS_FVCOM_OCEAN_MASSBAY_FORECAST.nc'\n",
    "url = THREDDS+'/dodsC/FVCOM/NECOFS/Forecasts/NECOFS_GOM3_FORECAST.nc'\n",
    "url = THREDDS+'/dodsC/fvcom/archives/necofs_mb'\n",
    "url = THREDDS+'/dodsC/fvcom/hindcasts/30yr_gom3'"
   ]
  },
  {
   "cell_type": "markdown",
   "metadata": {},
   "source": [
    "* Open DAP"
   ]
  },
  {
   "cell_type": "code",
   "execution_count": null,
   "metadata": {},
   "outputs": [],
   "source": [
    "nci = netCDF4.Dataset(url)"
   ]
  },
  {
   "cell_type": "markdown",
   "metadata": {},
   "source": [
    "* Specific Times\n",
    "\n",
    "**Note:**\n",
    "149 hours is nearly exactly 12 semidiurnal tidal cycles, since the dominant M2 tidal amplitude period is 12.42 hours."
   ]
  },
  {
   "cell_type": "code",
   "execution_count": null,
   "metadata": {},
   "outputs": [],
   "source": [
    "start = dt.datetime(2014,7,1,10,0,0) \n",
    "end = start + dt.timedelta(hours=148)    # 12.42*12 = 149.04"
   ]
  },
  {
   "cell_type": "markdown",
   "metadata": {},
   "source": [
    "## Drag Coefficient **CD**\n",
    "\n",
    "* Compute the `drag coefficient` $CD$ based on \n",
    "\n",
    " * `roughness height` $z_0$ \n",
    " * `distance above bottom` $z_r$\n",
    "\n",
    "$$\\Large k=0.4$$\n",
    "\n",
    "$$\\Large cd = (\\frac{k \\cdot z_r}{\\log{\\frac{z_r}{z_0}}})^2$$"
   ]
  },
  {
   "cell_type": "code",
   "execution_count": null,
   "metadata": {
    "ExecuteTime": {
     "end_time": "2017-04-27T22:11:34.374920Z",
     "start_time": "2017-04-27T22:11:34.261887Z"
    }
   },
   "outputs": [],
   "source": [
    "def z0tocd(z0=3.3546e-04, zr=1.0):\n",
    "    \"\"\" \n",
    "    Compute the drag coefficient CD based on \n",
    "    roughness height z0 and \n",
    "    distance above bottom zr\n",
    "    \"\"\"\n",
    "    \n",
    "    kappa = 0.4\n",
    "    cd=(kappa * np.ones_like(zr) / np.log(zr/z0))**2\n",
    "    return cd"
   ]
  },
  {
   "cell_type": "markdown",
   "metadata": {},
   "source": [
    "## Roughness Height **$Z_0$**\n",
    "\n",
    "* Compute the `roughness height` $z_0$ based on \n",
    "\n",
    " * `drag coefficient` $CD$ \n",
    " * `distance above bottom` $z_r$\n",
    "\n",
    "$$\\Large k=0.4$$\n",
    "\n",
    "$$\\Large z_0 = \\frac{z_r}{e^{\\frac{k \\cdot cd}{\\sqrt{cd}}}}$$"
   ]
  },
  {
   "cell_type": "code",
   "execution_count": null,
   "metadata": {
    "ExecuteTime": {
     "end_time": "2017-04-27T22:11:34.467583Z",
     "start_time": "2017-04-27T22:11:34.378433Z"
    }
   },
   "outputs": [],
   "source": [
    "def cdtoz0(cd=2.5e-3, zr=1.0):\n",
    "    \"\"\" \n",
    "    Compute the roughness height z0 based on \n",
    "    drag coefficient CD and \n",
    "    distance above bottom zr\n",
    "    \"\"\"\n",
    "    \n",
    "    kappa = 0.4\n",
    "    z0 = zr / (np.exp(kappa * np.ones_like(cd) / np.sqrt(cd)))\n",
    "    return z0"
   ]
  },
  {
   "cell_type": "markdown",
   "metadata": {},
   "source": [
    "## Bed Velocity\n",
    "\n",
    "* Compute the velocity 1 meter above bottom and friction velocity from velocity measured at height $z_r$ above bottom\n",
    "\n",
    " Inputs:\n",
    " \n",
    " * $w$ : east velocity component  + j*north velocity component $[ms^{-1}]$ [complex]\n",
    " * $z_0$ : roughness height = $kb/30$ $[m]$\n",
    " * $z_r$ : height above bottom for input velocity \"$w$\" $[m]$\n",
    "   \n",
    " Returns:\n",
    "   \n",
    " * $u'$ : friction velocity $[ms^{-1}]$ [complex]\n",
    " * $w$ : velocity 1 mab $[ms^{-1}]$ [complex]\n",
    "   \n",
    "   \n",
    "\n",
    "$$\\Large u'=\\sqrt{CD} \\cdot w$$\n",
    "\n",
    "$$\\Large ur = \\frac{|u'|}{ k \\log{\\frac{zr}{z0}}}$$\n",
    "\n",
    "$$\\Large w_{bottom} = w \\frac{ur}{(|w|+1e-16)}$$"
   ]
  },
  {
   "cell_type": "code",
   "execution_count": null,
   "metadata": {
    "ExecuteTime": {
     "end_time": "2017-04-27T22:11:34.570928Z",
     "start_time": "2017-04-27T22:11:34.471243Z"
    }
   },
   "outputs": [],
   "source": [
    "def w100(w=0.1+0j, z0=3.35e-04, zr=1):\n",
    "    \"\"\" \n",
    "    Compute the velocity 1 meter above bottom and friction velocity\n",
    "    from velocity measured at height zr above bottom.\n",
    "\n",
    "    Keyword arguments\n",
    "    -----------------\n",
    "    w : east velocity component+j*north velocity component (m/s) [complex]\n",
    "    z0 : roughness height = kb/30 (m) \n",
    "    zr : height above bottom for input velocity \"w\" (m)\n",
    "\n",
    "    Returns\n",
    "    -------\n",
    "    ustar : friction velocity (m/s) [complex]\n",
    "    w : velocity 1 mab (m/s) [complex]\n",
    "    \n",
    "    \"\"\"\n",
    "    \n",
    "    cd = z0tocd(z0, zr)\n",
    "    ustar = np.sqrt(cd)*w\n",
    "    kappa = 0.4\n",
    "    ur = abs(ustar)/kappa*np.log(np.ones_like(zr)/z0)\n",
    "    wbot = w*ur/(np.abs(w)+1e-16)\n",
    "    return ustar, wbot"
   ]
  },
  {
   "cell_type": "code",
   "execution_count": null,
   "metadata": {
    "ExecuteTime": {
     "end_time": "2017-04-27T22:11:35.863505Z",
     "start_time": "2017-04-27T22:11:34.574154Z"
    }
   },
   "outputs": [],
   "source": [
    "time_var = nci['time']\n",
    "istart = netCDF4.date2index(start, time_var, select='nearest')\n",
    "iend = netCDF4.date2index(end, time_var, select='nearest')\n",
    "jd = netCDF4.num2date(time_var[istart:iend+1], time_var.units)"
   ]
  },
  {
   "cell_type": "code",
   "execution_count": null,
   "metadata": {
    "ExecuteTime": {
     "end_time": "2017-04-27T22:11:35.872015Z",
     "start_time": "2017-04-27T22:11:35.867236Z"
    }
   },
   "outputs": [],
   "source": [
    "itimes = range(istart, iend+1)"
   ]
  },
  {
   "cell_type": "code",
   "execution_count": null,
   "metadata": {
    "ExecuteTime": {
     "end_time": "2017-04-27T22:11:36.042848Z",
     "start_time": "2017-04-27T22:11:35.875945Z"
    }
   },
   "outputs": [],
   "source": [
    "len(itimes)"
   ]
  },
  {
   "cell_type": "markdown",
   "metadata": {},
   "source": [
    "* **Read connectivity array:**"
   ]
  },
  {
   "cell_type": "code",
   "execution_count": null,
   "metadata": {
    "ExecuteTime": {
     "end_time": "2017-04-27T22:11:36.357300Z",
     "start_time": "2017-04-27T22:11:36.045480Z"
    }
   },
   "outputs": [],
   "source": [
    "nv = nci['nv'][:].T - 1"
   ]
  },
  {
   "cell_type": "markdown",
   "metadata": {},
   "source": [
    "* **Print info on velocity variable:**"
   ]
  },
  {
   "cell_type": "code",
   "execution_count": null,
   "metadata": {
    "ExecuteTime": {
     "end_time": "2017-04-27T22:11:36.368238Z",
     "start_time": "2017-04-27T22:11:36.360413Z"
    }
   },
   "outputs": [],
   "source": [
    "print(nci['u'])\n",
    "node = len(nci['h'])\n",
    "nt, nsig, nele = np.shape(nci['u'])"
   ]
  },
  {
   "cell_type": "markdown",
   "metadata": {},
   "source": [
    "**OUTPUT:** \n",
    "\n",
    "Create NetCDF4 file with deflation on variables\n",
    " \n",
    "**Dimensions:**\n",
    "\n",
    "* nele\n",
    "* node\n",
    "* three\n",
    "* time\n",
    "   \n",
    "   \n",
    "**Variables:**\n",
    "\n",
    "* time\n",
    "* h\n",
    "* nv\n",
    "* lonc\n",
    "* latc\n",
    "* lon\n",
    "* lat\n",
    "* ubot\n",
    "* vbot\n",
    "* ubedload\n",
    "* vbedload"
   ]
  },
  {
   "cell_type": "code",
   "execution_count": null,
   "metadata": {},
   "outputs": [],
   "source": [
    "url_out = '/home/epinux/gom3_bedload.nc'"
   ]
  },
  {
   "cell_type": "code",
   "execution_count": null,
   "metadata": {
    "ExecuteTime": {
     "end_time": "2017-04-27T22:11:36.744822Z",
     "start_time": "2017-04-27T22:11:36.371388Z"
    }
   },
   "outputs": [],
   "source": [
    "nco = netCDF4.Dataset(url_out, 'w', clobber=True)\n",
    "\n",
    "# create dimensions\n",
    "nco.createDimension('nele', nele)\n",
    "nco.createDimension('node', node)\n",
    "nco.createDimension('three', 3)\n",
    "nco.createDimension('time', None)\n",
    "\n",
    "# create variables\n",
    "timeo = nco.createVariable('time', 'f4',  ('time'))\n",
    "ho = nco.createVariable('h', 'f4',  ('node'))\n",
    "nvo = nco.createVariable('nv', 'i4',  ('three', 'nele'))\n",
    "lonco = nco.createVariable('lonc', 'f4',  ( 'nele'))\n",
    "latco = nco.createVariable('latc', 'f4',  ( 'nele'))\n",
    "lono = nco.createVariable('lon', 'f4',  ( 'node'))\n",
    "lato = nco.createVariable('lat', 'f4',  ( 'node'))\n",
    "\n",
    "ubot = nco.createVariable('ubot', 'f4',  ('time', 'nele'))\n",
    "vbot = nco.createVariable('vbot', 'f4',  ('time', 'nele'))\n",
    "ubedload = nco.createVariable('ubedload', 'f4',  ('time', 'nele'))\n",
    "vbedload = nco.createVariable('vbedload', 'f4',  ('time', 'nele'))\n",
    "\n",
    "# write variable attributes\n",
    "timeo.units=nci['time'].units\n",
    "ho.units=nci['h'].units\n",
    "lono.units=nci['lon'].units\n",
    "lato.units=nci['lat'].units\n",
    "lonco.units=nci['lonc'].units\n",
    "latco.units=nci['latc'].units\n",
    "ubot.units=nci['u'].units\n",
    "vbot.units=nci['v'].units\n",
    "ubot.standard_name = 'eastward_component_of_bottom_velocity'\n",
    "vbot.standard_name = 'northward_component_of_bottom_velocity'\n",
    "\n",
    "ubedload.units='kg m-1 s-1'\n",
    "vbedload.units='kg m-1 s-1'\n",
    "ubedload.standard_name = 'eastward_component_of_bedload_transport'\n",
    "vbedload.standard_name = 'northward_component_of_bedload_transport'\n",
    "# write data with no time dimension\n",
    "lonco[:]=nci['lonc'][:]\n",
    "latco[:]=nci['latc'][:]\n",
    "lono[:]=nci['lon'][:]\n",
    "lato[:]=nci['lat'][:]\n",
    "nvo[:]=nci['nv'][:]\n",
    "ho[:]=nci['h'][:]\n"
   ]
  },
  {
   "cell_type": "markdown",
   "metadata": {},
   "source": [
    "* **specify bottom layer, but handle case where there is just 1 layer in input file**"
   ]
  },
  {
   "cell_type": "code",
   "execution_count": null,
   "metadata": {
    "ExecuteTime": {
     "end_time": "2017-04-27T22:11:36.754842Z",
     "start_time": "2017-04-27T22:11:36.748574Z"
    }
   },
   "outputs": [],
   "source": [
    "\n",
    "if np.shape(nci['siglay'])[0]==1:\n",
    "    ilayer = 0\n",
    "else:\n",
    "    ilayer = -1"
   ]
  },
  {
   "cell_type": "markdown",
   "metadata": {},
   "source": [
    "* Use canonical bottom roughness\n",
    "\n",
    "$kb=0.5 \\quad [cm]$"
   ]
  },
  {
   "cell_type": "markdown",
   "metadata": {},
   "source": [
    "* **neither $z_0$ or $cd$ is saved in this FVCOM output, so just use canonical bottom roughness, $kb=0.5 \\quad cm$**\n"
   ]
  },
  {
   "cell_type": "code",
   "execution_count": null,
   "metadata": {},
   "outputs": [],
   "source": [
    "kb=0.005\n",
    "z0=kb/30."
   ]
  },
  {
   "cell_type": "markdown",
   "metadata": {},
   "source": [
    "* **density plays a small role in stress, so just specify as constant here,  $\\rho=1025$**"
   ]
  },
  {
   "cell_type": "code",
   "execution_count": null,
   "metadata": {
    "ExecuteTime": {
     "end_time": "2017-04-27T22:11:36.867405Z",
     "start_time": "2017-04-27T22:11:36.758221Z"
    }
   },
   "outputs": [],
   "source": [
    "rho = 1025."
   ]
  },
  {
   "cell_type": "markdown",
   "metadata": {},
   "source": [
    "## Bedload transport\n",
    "\n",
    "* bedload transport routine we use in ROMS Meyer-Peter Mueller\n",
    "\n",
    "    Search for \"meyer\" in the  [ROMS sediment paper to find the description](http://www.ccpo.odu.edu/~klinck/Reprints/PDF/warnerCompGeo08.pdf)\n",
    "    * implementation in the ROMS code:\n",
    "\n",
    "https://github.com/dcherian/ROMS/blob/master/ROMS/Nonlinear/Sediment/sed_bedload.F#L500-L510\n",
    "\n",
    "---\n",
    "\n",
    "**Constants:**\n",
    "\n",
    "`gravity`: $g = 9.81$ \n",
    "\n",
    "`shields parameter`: $\\theta_c = 0.047$ \n",
    "\n",
    "**Variables:**\n",
    "\n",
    "$u': \\text{ bottom friction velocity}$\n",
    "\n",
    "$w_{bottom}:\\text{ velocity at 1  mab (meters above bed)}$\n",
    "\n",
    "$cd:\\text{ drag coefficient}$\n",
    "\n",
    "---\n",
    "\n",
    " * Compute bottom friction velocity and velocity at 1 mab\n",
    "\n",
    "  $u', w_{bottom} = w_{100}[w, z_0, z_r]$\n",
    "\n",
    "\n",
    " * Compute bottom stress from friction velocity\n",
    " \n",
    "  $cd = z_0tocd[z0,zr]$\n",
    "\n",
    "  $$\\Large b_{stress} = cd \\cdot \\rho \\cdot u' \\cdot |u'|$$\n",
    "\n",
    "--- \n",
    "\n",
    "  $$\\Large\\theta_{sf} = \\frac{ |b_{stress}| }{ ((s - 1.0) \\cdot g \\cdot d_{50}) }$$\n",
    "\n",
    "  $$\\Large \\theta = \\theta_{sf} - \\theta_c$$\n",
    "\n",
    "  $$\\Large \\phi = 8.0 \\cdot \\sqrt{\\theta^3}$$\n",
    "\n",
    "  $$\\Large q = \\phi \\cdot \\sqrt{ (s-1.0) \\cdot g \\cdot d_{50}^3 } \\cdot \\rho_s$$"
   ]
  },
  {
   "cell_type": "code",
   "execution_count": null,
   "metadata": {
    "ExecuteTime": {
     "end_time": "2017-04-27T22:11:36.959089Z",
     "start_time": "2017-04-27T22:11:36.870667Z"
    }
   },
   "outputs": [],
   "source": [
    "def mpm_bedload(w, z0, zr, d50, rho, rho_s):\n",
    "    g = 9.81         # gravity\n",
    "    theta_c = 0.047   # shields parameter\n",
    "\n",
    "    # compute bottom friction velocity and velocity at 1 mab\n",
    "    ustar, wbot = w100(w, z0, zr)    \n",
    "\n",
    "    # compute bottom stress from friction velocity\n",
    "    cd = z0tocd(z0,zr)\n",
    "\n",
    "    bstr = cd * rho * ustar * np.abs(ustar) \n",
    "\n",
    "    theta_sf = np.abs(bstr) / ((s - 1.0) * g * d50)\n",
    "\n",
    "    theta = (theta_sf - theta_c)\n",
    "    theta[theta<0.0] = 0.0\n",
    "    phi = 8.0*(theta**1.5)\n",
    "\n",
    "    q = phi * np.sqrt((s-1.0) * g * d50**3)*rho_s\n",
    "\n",
    "    return q, wbot"
   ]
  },
  {
   "cell_type": "markdown",
   "metadata": {},
   "source": [
    "* Pick a sand grain size for bedload transport calculation\n",
    "    \n",
    " * *grain size* \n",
    "\n",
    "$d_{50} = 200.0 \\cdot 10^{-6}$  ( 200 $\\mu$, sand )\n",
    "\n",
    " * *sediment density*\n",
    "\n",
    "$\\rho_s = 2650$  \n",
    "\n",
    "\n",
    "$s = \\frac{\\rho_s}{\\rho}$\n",
    "\n",
    " * define constats: $\\overrightarrow{g}, \\theta_c$\n",
    "\n",
    "$g = 9.81$\n",
    "\n",
    "$\\theta_c = 0.047$\n",
    "\n"
   ]
  },
  {
   "cell_type": "markdown",
   "metadata": {},
   "source": [
    "# Simulation"
   ]
  },
  {
   "cell_type": "code",
   "execution_count": null,
   "metadata": {
    "ExecuteTime": {
     "end_time": "2017-04-27T22:11:37.074213Z",
     "start_time": "2017-04-27T22:11:36.962336Z"
    }
   },
   "outputs": [],
   "source": [
    "d50 = 200.0e-06  # 200 micron sand\n",
    "rho_s = 2650. # density of sediment \n",
    "s = rho_s/rho\n",
    "g = 9.81\n",
    "theta_c = 0.047"
   ]
  },
  {
   "cell_type": "code",
   "execution_count": null,
   "metadata": {
    "ExecuteTime": {
     "end_time": "2017-04-27T22:11:37.171597Z",
     "start_time": "2017-04-27T22:11:37.077472Z"
    }
   },
   "outputs": [],
   "source": [
    "# test\n",
    "w = np.array([0, 0.5]) + 1j*np.array([.5, .5])\n",
    "zr = 1.0\n",
    "q, wbot = mpm_bedload(w, z0, zr, d50, rho, rho_s)\n",
    "print(q, wbot)"
   ]
  },
  {
   "cell_type": "markdown",
   "metadata": {},
   "source": [
    "* specify bottom layer, but handle case where there is just 1 layer in input file:"
   ]
  },
  {
   "cell_type": "code",
   "execution_count": null,
   "metadata": {},
   "outputs": [],
   "source": [
    "if np.shape(nci['siglay'])[0]==1:\n",
    "    ilayer = 0\n",
    "else:\n",
    "    ilayer = -1"
   ]
  },
  {
   "cell_type": "markdown",
   "metadata": {},
   "source": [
    "**Loop through time, writing each 2D or 3D field to output file**"
   ]
  },
  {
   "cell_type": "code",
   "execution_count": null,
   "metadata": {},
   "outputs": [],
   "source": [
    "def log_progress(sequence, every=None, size=None, name='Items'):\n",
    "    from ipywidgets import IntProgress, HTML, VBox\n",
    "    from IPython.display import display\n",
    "\n",
    "    is_iterator = False\n",
    "    if size is None:\n",
    "        try:\n",
    "            size = len(sequence)\n",
    "        except TypeError:\n",
    "            is_iterator = True\n",
    "    if size is not None:\n",
    "        if every is None:\n",
    "            if size <= 200:\n",
    "                every = 1\n",
    "            else:\n",
    "                every = int(size / 200)     # every 0.5%\n",
    "    else:\n",
    "        assert every is not None, 'sequence is iterator, set every'\n",
    "\n",
    "    if is_iterator:\n",
    "        progress = IntProgress(min=0, max=1, value=1)\n",
    "        progress.bar_style = 'info'\n",
    "    else:\n",
    "        progress = IntProgress(min=0, max=size, value=0)\n",
    "    label = HTML()\n",
    "    box = VBox(children=[label, progress])\n",
    "    display(box)\n",
    "\n",
    "    index = 0\n",
    "    try:\n",
    "        for index, record in enumerate(sequence, 1):\n",
    "            if index == 1 or index % every == 0:\n",
    "                if is_iterator:\n",
    "                    label.value = '{name}: {index} / ?'.format(\n",
    "                        name=name,\n",
    "                        index=index\n",
    "                    )\n",
    "                else:\n",
    "                    progress.value = index\n",
    "                    label.value = u'{name}: {index} / {size}'.format(\n",
    "                        name=name,\n",
    "                        index=index,\n",
    "                        size=size\n",
    "                    )\n",
    "            yield record\n",
    "    except:\n",
    "        progress.bar_style = 'danger'\n",
    "        raise\n",
    "    else:\n",
    "        progress.bar_style = 'success'\n",
    "        progress.value = index\n",
    "        label.value = \"{name}: {index}\".format(\n",
    "            name=name,\n",
    "            index=str(index or '?')\n",
    "        )"
   ]
  },
  {
   "cell_type": "code",
   "execution_count": null,
   "metadata": {
    "ExecuteTime": {
     "end_time": "2017-04-27T22:12:32.422878Z",
     "start_time": "2017-04-27T22:11:37.175021Z"
    }
   },
   "outputs": [],
   "source": [
    "k=0\n",
    "for itime in log_progress(itimes, every=1):\n",
    "    zr = 0.5*(nci['siglay'][-2,:]-nci['siglay'][-1,:]) * \\\n",
    "             (nci['h'][:]+nci['zeta'][itime,:])\n",
    "    u = nci['u'][itime, ilayer, :]\n",
    "    v = nci['v'][itime, ilayer, :]\n",
    "\n",
    "    # average nodes to get bottom layer thicknesses at faces \n",
    "    # (velocity points)\n",
    "    zr_face = np.mean(zr[nv],axis=1)\n",
    "    \n",
    "    # create complex velocity from components\n",
    "    w = u + 1j*v\n",
    "  \n",
    "    q, wbot = mpm_bedload(w, z0, zr_face, d50, rho, rho_s)\n",
    "\n",
    "    # write bottom velocity and stress components to output file\n",
    "    ubot[k,:]=wbot.real \n",
    "    vbot[k,:]=wbot.imag \n",
    "    ubedload[k,:] = q * np.real(w) / np.abs(w)   # bedload in x direction\n",
    "    vbedload[k,:] = q * np.imag(w) / np.abs(w)   # bedload in y direction\n",
    "    timeo[k] = nci['time'][itime]\n",
    "    k += 1"
   ]
  },
  {
   "cell_type": "code",
   "execution_count": null,
   "metadata": {
    "ExecuteTime": {
     "end_time": "2017-04-27T22:12:32.453788Z",
     "start_time": "2017-04-27T22:12:32.425969Z"
    }
   },
   "outputs": [],
   "source": [
    "nci.close()\n",
    "nco.close()"
   ]
  },
  {
   "cell_type": "markdown",
   "metadata": {},
   "source": [
    "## Net bed-load transport\n",
    "\n",
    "The notebook here calculates the **instantaneous bedload transport**, to determine \n",
    "The **net transport** is given by averaging the results over a tidal cycle (average over an exact number of tidal cycles to don't get some fraction of a remaining tidal cycle affecting the mean)"
   ]
  },
  {
   "cell_type": "code",
   "execution_count": null,
   "metadata": {
    "scrolled": true
   },
   "outputs": [],
   "source": [
    "!ncra -O /home/epinux/gom3_bedload.nc /home/epinux/gom3_bedload_mean.nc"
   ]
  },
  {
   "cell_type": "markdown",
   "metadata": {
    "collapsed": true,
    "jupyter": {
     "outputs_hidden": true
    }
   },
   "source": [
    "## Results\n",
    "\n",
    "* [gom3_bedload_mean.nc](http://epinux.com/epi/gom3_bedload_mean.nc)\n",
    "\n",
    "* http://epinux.com/epi/gom3_bedload_mean.nc"
   ]
  },
  {
   "cell_type": "code",
   "execution_count": null,
   "metadata": {},
   "outputs": [],
   "source": [
    "# !gist FVCOM_bedload.ipynb"
   ]
  },
  {
   "cell_type": "markdown",
   "metadata": {},
   "source": [
    "# Quey"
   ]
  },
  {
   "cell_type": "markdown",
   "metadata": {},
   "source": [
    "## load dataset"
   ]
  },
  {
   "cell_type": "code",
   "execution_count": null,
   "metadata": {},
   "outputs": [],
   "source": [
    "import xarray as xr"
   ]
  },
  {
   "cell_type": "code",
   "execution_count": null,
   "metadata": {},
   "outputs": [],
   "source": [
    "gom3_bedload = xr.open_dataset('/home/epinux/gom3_bedload.nc')\n",
    "gom3_bedload"
   ]
  },
  {
   "cell_type": "code",
   "execution_count": null,
   "metadata": {},
   "outputs": [],
   "source": [
    "gom3_bedload_mean = xr.open_dataset('/home/epinux/gom3_bedload_mean.nc')\n",
    "gom3_bedload_mean"
   ]
  },
  {
   "cell_type": "code",
   "execution_count": null,
   "metadata": {},
   "outputs": [],
   "source": [
    "#gom3_bedload_mean.where((gom3_bedload_mean.lat <= 47) & (gom3_bedload_mean.lat >= 46) & (gom3_bedload_mean.lon >= -61) & (gom3_bedload_mean.lon <= -59), drop=True).h"
   ]
  },
  {
   "cell_type": "markdown",
   "metadata": {},
   "source": [
    "## Query by nearest node given a known location"
   ]
  },
  {
   "cell_type": "markdown",
   "metadata": {},
   "source": [
    "### Find Nearest Node to $p(x,y)$\n",
    "Find the indices of the points in (x,y) closest to the points in (xi,yi)"
   ]
  },
  {
   "cell_type": "code",
   "execution_count": null,
   "metadata": {},
   "outputs": [],
   "source": [
    "# Find the indices of the points in (x,y) closest to the points in (xi,yi)\n",
    "import numpy as np\n",
    "\n",
    "def nearxy(x,y,xi,yi):\n",
    "    \n",
    "    ind=np.ones(len(xi),dtype=int)\n",
    "    for i in np.arange(len(xi)):\n",
    "        dist=np.sqrt((x-xi[i])**2+(y-yi[i])**2)\n",
    "        ind[i]=dist.argmin()\n",
    "        \n",
    "    return ind"
   ]
  },
  {
   "cell_type": "code",
   "execution_count": null,
   "metadata": {},
   "outputs": [],
   "source": [
    "nearest_node = int(nearxy(gom3_bedload_mean['lon'][:], gom3_bedload_mean['lat'][:], [-71.047984], [42.368186]))"
   ]
  },
  {
   "cell_type": "markdown",
   "metadata": {},
   "source": [
    "### Get position from node "
   ]
  },
  {
   "cell_type": "code",
   "execution_count": null,
   "metadata": {},
   "outputs": [],
   "source": [
    "nearest_lat = float(gom3_bedload_mean.isel(node=nearest_node).lat.values)\n",
    "nearest_lon = float(gom3_bedload_mean.isel(node=nearest_node).lon.values)"
   ]
  },
  {
   "cell_type": "markdown",
   "metadata": {},
   "source": [
    "### Get Data "
   ]
  },
  {
   "cell_type": "code",
   "execution_count": null,
   "metadata": {},
   "outputs": [],
   "source": [
    "gom3_bedload_mean.where((gom3_bedload_mean.lat == nearest_lat) & \\\n",
    "                        (gom3_bedload_mean.lon == nearest_lon), drop=True)"
   ]
  },
  {
   "cell_type": "markdown",
   "metadata": {},
   "source": [
    "## Example Query by BBOX"
   ]
  },
  {
   "cell_type": "code",
   "execution_count": null,
   "metadata": {},
   "outputs": [],
   "source": [
    "gom3_bedload_mean.where((gom3_bedload_mean.lat <= 47) & \\\n",
    "                        (gom3_bedload_mean.lat >= 46) & \\\n",
    "                        (gom3_bedload_mean.lon >= -61) & \\\n",
    "                        (gom3_bedload_mean.lon <= -59), drop=True)"
   ]
  },
  {
   "cell_type": "code",
   "execution_count": null,
   "metadata": {},
   "outputs": [],
   "source": []
  }
 ],
 "metadata": {
  "_draft": {
   "nbviewer_url": "https://gist.github.com/314d5d26221328b7d280e3ee545f05a2"
  },
  "gist": {
   "data": {
    "description": "GEOHAB/FVCOM_bedload.ipynb",
    "public": true
   },
   "id": "314d5d26221328b7d280e3ee545f05a2"
  },
  "gist_id": "98028ea5da5930fa4b2033408e280e34",
  "hide_input": false,
  "kernelspec": {
   "display_name": "Python 3 (ipykernel)",
   "language": "python",
   "name": "python3"
  },
  "language_info": {
   "codemirror_mode": {
    "name": "ipython",
    "version": 3
   },
   "file_extension": ".py",
   "mimetype": "text/x-python",
   "name": "python",
   "nbconvert_exporter": "python",
   "pygments_lexer": "ipython3",
   "version": "3.10.10"
  },
  "latex_envs": {
   "bibliofile": "biblio.bib",
   "cite_by": "apalike",
   "current_citInitial": 1,
   "eqLabelWithNumbers": true,
   "eqNumInitial": 0
  },
  "toc": {
   "toc_cell": false,
   "toc_number_sections": true,
   "toc_threshold": 6,
   "toc_window_display": true
  },
  "toc_position": {
   "height": "377px",
   "left": "1630px",
   "right": "26px",
   "top": "119px",
   "width": "264px"
  }
 },
 "nbformat": 4,
 "nbformat_minor": 4
}
